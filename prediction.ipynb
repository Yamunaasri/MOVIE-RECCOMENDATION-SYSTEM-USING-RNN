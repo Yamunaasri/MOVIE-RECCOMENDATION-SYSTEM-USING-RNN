{
 "cells": [
  {
   "cell_type": "code",
   "execution_count": 1,
   "metadata": {},
   "outputs": [],
   "source": [
    "# Step 1: Import Libraries and Load the Model\n",
    "import numpy as np\n",
    "import tensorflow as tf\n",
    "from tensorflow.keras.datasets import imdb\n",
    "from tensorflow.keras.preprocessing import sequence\n",
    "import torch\n",
    "import torch.nn as nn\n",
    "\n",
    "# Define the PyTorch model class (must match the training notebook)\n",
    "class SimpleRNNClassifier(nn.Module):\n",
    "    def __init__(self, vocab_size, embedding_dim, hidden_dim, output_dim):\n",
    "        super(SimpleRNNClassifier, self).__init__()\n",
    "        self.embedding = nn.Embedding(vocab_size, embedding_dim)\n",
    "        self.rnn = nn.RNN(embedding_dim, hidden_dim, batch_first=True)\n",
    "        self.fc = nn.Linear(hidden_dim, output_dim)\n",
    "        self.sigmoid = nn.Sigmoid()\n",
    "        \n",
    "    def forward(self, x):\n",
    "        embedded = self.embedding(x)\n",
    "        rnn_out, hidden = self.rnn(embedded)\n",
    "        output = self.fc(rnn_out[:, -1, :])\n",
    "        output = self.sigmoid(output)\n",
    "        return output"
   ]
  },
  {
   "cell_type": "code",
   "execution_count": 2,
   "metadata": {},
   "outputs": [],
   "source": [
    "\n",
    "# Load the IMDB dataset word index\n",
    "word_index = imdb.get_word_index()\n",
    "reverse_word_index = {value: key for key, value in word_index.items()}"
   ]
  },
  {
   "cell_type": "code",
   "execution_count": 3,
   "metadata": {},
   "outputs": [
    {
     "name": "stdout",
     "output_type": "stream",
     "text": [
      "Using device: cpu\n",
      "✅ PyTorch model loaded successfully!\n"
     ]
    }
   ],
   "source": [
    "# Load the pre-trained PyTorch model\n",
    "device = torch.device('cuda' if torch.cuda.is_available() else 'cpu')\n",
    "print(f\"Using device: {device}\")\n",
    "\n",
    "# Model parameters (must match training parameters)\n",
    "vocab_size = 10000\n",
    "embedding_dim = 128\n",
    "hidden_dim = 128\n",
    "output_dim = 1\n",
    "\n",
    "# Create model instance first, then load the state dictionary\n",
    "model = SimpleRNNClassifier(vocab_size, embedding_dim, hidden_dim, output_dim)\n",
    "model.load_state_dict(torch.load('simple_rnn_imdb_pytorch.pth', map_location=device))\n",
    "model.to(device)\n",
    "model.eval()\n",
    "\n",
    "print(\"✅ PyTorch model loaded successfully!\")"
   ]
  },
  {
   "cell_type": "code",
   "execution_count": 4,
   "metadata": {},
   "outputs": [
    {
     "name": "stdout",
     "output_type": "stream",
     "text": [
      "Model Architecture:\n",
      "SimpleRNNClassifier(\n",
      "  (embedding): Embedding(10000, 128)\n",
      "  (rnn): RNN(128, 128, batch_first=True)\n",
      "  (fc): Linear(in_features=128, out_features=1, bias=True)\n",
      "  (sigmoid): Sigmoid()\n",
      ")\n",
      "\n",
      "Total parameters: 1,313,153\n",
      "Trainable parameters: 1,313,153\n",
      "\n",
      "Embedding layer weight shape: torch.Size([10000, 128])\n",
      "RNN weight shape: torch.Size([128, 128])\n",
      "FC layer weight shape: torch.Size([1, 128])\n"
     ]
    }
   ],
   "source": [
    "# Display model parameters (PyTorch equivalent of model.get_weights())\n",
    "print(\"Model Architecture:\")\n",
    "print(model)\n",
    "print(f\"\\nTotal parameters: {sum(p.numel() for p in model.parameters()):,}\")\n",
    "print(f\"Trainable parameters: {sum(p.numel() for p in model.parameters() if p.requires_grad):,}\")\n",
    "\n",
    "# Show sample weights\n",
    "print(f\"\\nEmbedding layer weight shape: {model.embedding.weight.shape}\")\n",
    "print(f\"RNN weight shape: {model.rnn.weight_ih_l0.shape}\")\n",
    "print(f\"FC layer weight shape: {model.fc.weight.shape}\")"
   ]
  },
  {
   "cell_type": "code",
   "execution_count": 5,
   "metadata": {},
   "outputs": [],
   "source": [
    "# Step 2: Helper Functions\n",
    "# Function to decode reviews\n",
    "def decode_review(encoded_review):\n",
    "    return ' '.join([reverse_word_index.get(i - 3, '?') for i in encoded_review])\n",
    "\n",
    "# Function to preprocess user input (updated for PyTorch)\n",
    "def preprocess_text(text):\n",
    "    words = text.lower().split()\n",
    "    encoded_review = [word_index.get(word, 2) + 3 for word in words]\n",
    "    padded_review = sequence.pad_sequences([encoded_review], maxlen=500)\n",
    "    # Convert to PyTorch tensor\n",
    "    return torch.LongTensor(padded_review).to(device)"
   ]
  },
  {
   "cell_type": "code",
   "execution_count": 6,
   "metadata": {},
   "outputs": [],
   "source": [
    "### Prediction function (updated for PyTorch)\n",
    "\n",
    "def predict_sentiment(review):\n",
    "    model.eval()  # Ensure model is in evaluation mode\n",
    "    \n",
    "    with torch.no_grad():  # Disable gradient computation for inference\n",
    "        preprocessed_input = preprocess_text(review)\n",
    "        prediction = model(preprocessed_input)  # Use PyTorch forward pass\n",
    "        \n",
    "        # Convert to numpy for easier handling\n",
    "        prediction_score = prediction.cpu().numpy()[0][0]\n",
    "        \n",
    "        sentiment = 'Positive' if prediction_score > 0.5 else 'Negative'\n",
    "        \n",
    "        return sentiment, prediction_score"
   ]
  },
  {
   "cell_type": "code",
   "execution_count": 7,
   "metadata": {},
   "outputs": [
    {
     "name": "stdout",
     "output_type": "stream",
     "text": [
      "Review: This movie was fantastic! The acting was great and the plot was thrilling.\n",
      "Sentiment: Positive\n",
      "Prediction Score: 0.8279\n",
      "Confidence: 65.6%\n"
     ]
    }
   ],
   "source": [
    "# Step 4: User Input and Prediction\n",
    "# Example review for prediction\n",
    "example_review = \"This movie was fantastic! The acting was great and the plot was thrilling.\"\n",
    "\n",
    "sentiment, score = predict_sentiment(example_review)\n",
    "\n",
    "print(f'Review: {example_review}')\n",
    "print(f'Sentiment: {sentiment}')\n",
    "print(f'Prediction Score: {score:.4f}')\n",
    "print(f'Confidence: {abs(score - 0.5) * 200:.1f}%')"
   ]
  },
  {
   "cell_type": "code",
   "execution_count": 8,
   "metadata": {},
   "outputs": [
    {
     "name": "stdout",
     "output_type": "stream",
     "text": [
      "Model parameters:\n",
      "Total parameters: 1,313,153\n",
      "\n",
      "Model architecture:\n",
      "SimpleRNNClassifier(\n",
      "  (embedding): Embedding(10000, 128)\n",
      "  (rnn): RNN(128, 128, batch_first=True)\n",
      "  (fc): Linear(in_features=128, out_features=1, bias=True)\n",
      "  (sigmoid): Sigmoid()\n",
      ")\n",
      "\n",
      "Embedding layer weight shape: torch.Size([10000, 128])\n",
      "RNN weight shape: torch.Size([128, 128])\n",
      "FC layer weight shape: torch.Size([1, 128])\n"
     ]
    }
   ],
   "source": [
    "# Display model parameters (PyTorch equivalent of model.get_weights())\n",
    "print(\"Model parameters:\")\n",
    "print(f\"Total parameters: {sum(p.numel() for p in model.parameters()):,}\")\n",
    "\n",
    "# Show model architecture\n",
    "print(f\"\\nModel architecture:\\n{model}\")\n",
    "\n",
    "# Show sample weights\n",
    "print(f\"\\nEmbedding layer weight shape: {model.embedding.weight.shape}\")\n",
    "print(f\"RNN weight shape: {model.rnn.weight_ih_l0.shape}\")\n",
    "print(f\"FC layer weight shape: {model.fc.weight.shape}\")"
   ]
  },
  {
   "cell_type": "code",
   "execution_count": 9,
   "metadata": {},
   "outputs": [],
   "source": [
    "# Step 2: Helper Functions\n",
    "# Function to decode reviews\n",
    "def decode_review(encoded_review):\n",
    "    return ' '.join([reverse_word_index.get(i - 3, '?') for i in encoded_review])\n",
    "\n",
    "# Function to preprocess user input (updated for PyTorch)\n",
    "def preprocess_text(text):\n",
    "    words = text.lower().split()\n",
    "    encoded_review = [word_index.get(word, 2) + 3 for word in words]\n",
    "    padded_review = sequence.pad_sequences([encoded_review], maxlen=500)\n",
    "    # Convert to PyTorch tensor\n",
    "    return torch.LongTensor(padded_review).to(device)"
   ]
  }
 ],
 "metadata": {
  "kernelspec": {
   "display_name": "Python 3",
   "language": "python",
   "name": "python3"
  },
  "language_info": {
   "codemirror_mode": {
    "name": "ipython",
    "version": 3
   },
   "file_extension": ".py",
   "mimetype": "text/x-python",
   "name": "python",
   "nbconvert_exporter": "python",
   "pygments_lexer": "ipython3",
   "version": "3.11.0"
  }
 },
 "nbformat": 4,
 "nbformat_minor": 2
}
